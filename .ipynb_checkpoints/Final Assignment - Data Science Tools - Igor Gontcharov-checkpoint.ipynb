{
 "cells": [
  {
   "cell_type": "markdown",
   "id": "664d165a",
   "metadata": {},
   "source": [
    "# **Final Assignment**\n",
    "## **AI4PH** - _The Tools for Data Science: Notebooks and Versioning_\n",
    "## by Igor Gontcharov"
   ]
  },
  {
   "cell_type": "markdown",
   "id": "213c2639-d76e-4c86-ae71-d23c3768f062",
   "metadata": {
    "jp-MarkdownHeadingCollapsed": true
   },
   "source": [
    "### Assignment Details"
   ]
  },
  {
   "cell_type": "markdown",
   "id": "332dac76",
   "metadata": {
    "jp-MarkdownHeadingCollapsed": true
   },
   "source": [
    "### Purpose\n",
    "\n",
    "To demonstrate mastery of the course material, learners will create a Jupyter Notebook that walks through a sample dataset, from data ingestion, basic cleaning, visualization, and calculation of summary statistics. \n",
    "\n",
    "**The notebook includes the following elements:**\n",
    "\n",
    "- **Data Loading:** Import a public health dataset of your choice\n",
    "\n",
    "- **Exploratory Data Analysis:** Perform exploratory data analysis on the cleaned dataset using pandas and matplotlib and create at least one informative visualizations and the calculation of at least two summary statistics. \n",
    "\n",
    "- **Version Control:** Use Git to create a repository for your notebook, and commit your changes regularly. Ensure that your notebook is properly versioned and documented.\n",
    "\n",
    "- **Reproducibility:** Use virtual environments and include a **'requirements.txt'** file that lists all the dependencies and versions of the libraries used.\n",
    "\n",
    "- **Documentation:** Document your notebook using Markdown cells, and provide clear and concise explanations of your code and analysis.\n",
    "\n",
    "The repository should demonstrate the learner’s ability to use Virtual Environments, Jupyter Notebooks, Pandas, Matplotlib, Git and Github. The notebook will be assessed based on the quality of your analysis, the clarity of your documentation, and the reproducibility and maintainability of your code.\n",
    "\n",
    "**Link to the Github Public Repository:** https://github.com/WithRigor/DS-Tools-AI4PH-Final-Assignment"
   ]
  },
  {
   "cell_type": "markdown",
   "id": "2783680e-482e-4a6a-b4b9-683dfbd7c5da",
   "metadata": {},
   "source": [
    "### Suggested Steps:\n",
    "\n",
    "- [x] Create a Github repository\n",
    "- [x] Clone it to your local computer\n",
    "- [x] Create a README file that provides a link and the name of that dataset you have picked\n",
    "- [x] Commit this README into your repository and push it to Github\n",
    "- [x] Create a virtual environment and activate it\n",
    "- [x] Update your gitignore to make sure the virtual enviornment is not commited into your repository\n",
    "- [x] Install jupyter notebook in your virtual enviornment and create a notebook where you will do your analysis\n",
    "- [x] Commit your work so far\n",
    "- [x] Install pandas.\n",
    "- [x] Download your dataset and load it using pandas\n",
    "- [x] Make sure your data is not commited into your repository\n",
    "- [x] Do some basic data exploration using pandas and include at minimum **one visualization** and the calculation of **two summary statistics**. \n",
    "- [x] Explain your findings using markdown\n",
    "- [x] Freeze your environment dependencies and save it to a requirements.txt file\n",
    "- [x] Commit everything one last time, and make sure everything is pushed to Github"
   ]
  },
  {
   "cell_type": "markdown",
   "id": "f14ac49c-b6cd-4a4c-aadf-0c9e2699566f",
   "metadata": {},
   "source": [
    "**Goal:** The goal of the assignment is to practice some of the tools and best practices you have learnt last week and this week."
   ]
  },
  {
   "cell_type": "markdown",
   "id": "29b3fc8d-db6a-496b-9b71-47b9c8cf98c7",
   "metadata": {},
   "source": [
    "**Task:** Your task is to select a dataset from [here](https://data.ontario.ca/dataset/?keywords_en=COVID-19) and conduct exploratory data analysis using Jupyter Notebooks. Document your code in comments and in markdown. Make sure your environment is replicable using virtual environments and a requirements file. Make sure your code is kept in version control and commited to a public repository that can be shared, and that you have multiple commits to show progress over time. "
   ]
  },
  {
   "cell_type": "markdown",
   "id": "37f31d26-cd59-4f74-a98f-ddccf4d6f349",
   "metadata": {},
   "source": [
    "**How To Submit**: Submit the link of your repository on the course website"
   ]
  },
  {
   "cell_type": "markdown",
   "id": "b568ecaa",
   "metadata": {
    "jp-MarkdownHeadingCollapsed": true
   },
   "source": [
    "## Version Control & Reproducibility"
   ]
  },
  {
   "cell_type": "markdown",
   "id": "c3959c09-e4c1-4ba8-aa3d-0ed3b939e6e5",
   "metadata": {},
   "source": [
    "<img src=\"https://github.githubassets.com/images/modules/logos_page/GitHub-Mark.png\" alt=\"Github Logo\" style=\"height: 100px; float: left;\"/>"
   ]
  },
  {
   "cell_type": "markdown",
   "id": "025d0523-d2a2-401e-9e94-3bca39f568d8",
   "metadata": {},
   "source": [
    "**<font color='green'>GitHub</font>**\n",
    "\n",
    "I am using GitHub - a platform for hosting Git repositories - to keep track of the changes in the folder of my local repository.\n",
    "\n",
    "**Downloaded and installed from**: [here](https://git-scm.com/downloads)\n",
    "\n",
    "**I have previously created an account**: [here](https://github.com/)\n",
    "\n",
    "**Cheat Sheet**: [here](https://i.redd.it/8341g68g1v7y.png)\n",
    "\n",
    "**New repository for the course assignment**: I created a new public repository 'DS-Tools-AI4PH-Final-Assignment'.\n",
    "https://github.com/WithRigor/DS-Tools-AI4PH-Final-Assignment\n",
    "I also added a **README file**."
   ]
  },
  {
   "cell_type": "markdown",
   "id": "222a0da9",
   "metadata": {},
   "source": [
    "### Setting Up Environment\n",
    "\n",
    "<img src=\"https://miro.medium.com/v2/resize:fit:765/1*_-kpR6xh2U7kUZRVrflUCw.jpeg\" alt=\"Python Virtual Venv\" style=\"height: 100px; float: left;\"/>"
   ]
  },
  {
   "cell_type": "markdown",
   "id": "831153b1-a7dd-4923-9596-0b00d0865ee8",
   "metadata": {},
   "source": [
    "Python virtual environments are crucial for managing dependencies and ensuring that our projects are reproducible. They allow installing packages in an isolated environment, which means we can avoid conflicts between project requirements."
   ]
  },
  {
   "cell_type": "markdown",
   "id": "ddb03d68-f584-4e0e-b841-583c4be7e17e",
   "metadata": {},
   "source": [
    "**<font color='green'>VENV</font>**\n",
    "\n",
    "I am using the **VENV** module to create a **virtual environment** with its own independent set of Python packages."
   ]
  },
  {
   "cell_type": "markdown",
   "id": "9591d7cd-24a2-4f79-ba58-d2b06ca887dd",
   "metadata": {},
   "source": [
    "**Key commands**:\n",
    "\n",
    "* Create an environment: ```python -m venv venv```\n",
    "* Activate environment\n",
    "    * Windows: ```venv\\Scripts\\activate```\n",
    "* Install dependencies: ```pip install pandas```\n",
    "* Freeze enviornment: ```pip freeze > requirements.txt```\n",
    "* Leave enviornment: ```deactivate```"
   ]
  },
  {
   "cell_type": "markdown",
   "id": "7c4800c5-c356-4a66-9216-6cb7367140c9",
   "metadata": {},
   "source": [
    "This sequence illustrates how I created a snapshot of my virtual environment by generating the **requirements.txt** file.\n",
    "\n",
    "* ```DS-Tools-AI4PH-Final-Assignment>python -m venv ds-venv```    \n",
    "* ```DS-Tools-AI4PH-Final-Assignment\\ds-venv\\Scripts>activate```\n",
    "* ```DS-Tools-AI4PH-Final-Assignment\\ds-venv\\Scripts>pip install jupyter notebook```\n",
    "* ```DS-Tools-AI4PH-Final-Assignment\\ds-venv\\Scripts>pip install pandas```\n",
    "* ```DS-Tools-AI4PH-Final-Assignment\\ds-venv\\Scripts>pip freeze > requirements.txt```"
   ]
  },
  {
   "cell_type": "markdown",
   "id": "dd33e43e",
   "metadata": {},
   "source": [
    "#### <font color='green'>Jupyter Notebook</font>\n",
    "    \n",
    "<img src=\"https://www.dataquest.io/wp-content/uploads/2019/01/1-LPnY8nOLg4S6_TG0DEXwsg-1.png\" alt=\"Jupyter Logo\" style=\"height: 100px; float: left;\"/>"
   ]
  },
  {
   "cell_type": "markdown",
   "id": "ffb3487b",
   "metadata": {},
   "source": [
    "**Why use it**: Jupyter is an interactive environment for bringing together data, code, and prose, to tell an interactive, computational story that can be shared with others. It is a great way to do an assignment for a data science course!\n",
    "\n",
    "**Download**: Install from [here](https://jupyter.org/install)\n",
    "\n",
    "**Resources**: Cheat sheet [here](https://www.edureka.co/blog/wp-content/uploads/2018/10/Jupyter_Notebook_CheatSheet_Edureka.pdf)"
   ]
  },
  {
   "cell_type": "markdown",
   "id": "492c12b9",
   "metadata": {},
   "source": [
    "## Data Loading"
   ]
  },
  {
   "cell_type": "markdown",
   "id": "02d62a1a",
   "metadata": {},
   "source": [
    "The main dataset named \"Confirmed positive cases of COVID-19 in Ontario\" is from the Government of Ontario website https://data.ontario.ca/en/dataset/confirmed-positive-cases-of-covid-19-in-ontario.tario).\n",
    "\n",
    "For the purposes of this assignment - I downloaded and placed the dataset in the folder manually. "
   ]
  },
  {
   "cell_type": "markdown",
   "id": "4b110164-c889-4e29-84d1-c73da3a0a57d",
   "metadata": {},
   "source": [
    "**Data includes**:  \n",
    "\n",
    "- approximation of onset date  \n",
    "- age group  \n",
    "- patient gender  \n",
    "- case acquisition information  \n",
    "- patient outcome  \n",
    "- reporting Public Health Unit (PHU)\n",
    "- postal code, website, longitude, and latitude of PHU."
   ]
  },
  {
   "cell_type": "markdown",
   "id": "9a24aa4b",
   "metadata": {},
   "source": [
    "## Exploratory Data Analysis"
   ]
  },
  {
   "cell_type": "markdown",
   "id": "433eca89",
   "metadata": {},
   "source": [
    "#### <font color='green'>Pandas</font>\n",
    "\n",
    "<img src=\"https://upload.wikimedia.org/wikipedia/commons/thumb/e/ed/Pandas_logo.svg/1200px-Pandas_logo.svg.png\" alt=\"Selenium\" style=\"height: 100px; float: left;\"/>"
   ]
  },
  {
   "cell_type": "markdown",
   "id": "623d140c-4a4a-47d8-a9f6-b03aad108e36",
   "metadata": {},
   "source": [
    "\n",
    "**Why use it**: Pandas is a python library for data manipulation and analysis.\n",
    "\n",
    "**Download**: Install it by using pip ```pip install pandas```\n",
    "\n",
    "**Cheat sheet**: [here](https://ainfographics.files.wordpress.com/2017/10/python-pandas-cheat-sheet.png)\n",
    "\n",
    "Pandas is a library for data manipulation and analysis. Data can be read from multiple formats, including CSVs, Excel files, SQL databases, JSON, HTML, and more.\n",
    "\n",
    "I am using the ```pd.read_csv()``` function since it is a csv file."
   ]
  },
  {
   "cell_type": "code",
   "execution_count": 32,
   "id": "9aee32c1-12f1-49cb-a246-865bbbed9801",
   "metadata": {
    "scrolled": true
   },
   "outputs": [],
   "source": [
    "import pandas as pd\n",
    "filename = 'conposcovidloc.csv'\n",
    "all_cases = pd.read_csv(filename)"
   ]
  },
  {
   "cell_type": "markdown",
   "id": "fbd4628a-747e-43bf-aa04-0a7cc76f4628",
   "metadata": {},
   "source": [
    "I will use the `.head()` command to print the first seven rows of the data to visually inspect it"
   ]
  },
  {
   "cell_type": "code",
   "execution_count": 33,
   "id": "8217979e",
   "metadata": {},
   "outputs": [
    {
     "data": {
      "text/html": [
       "<div>\n",
       "<style scoped>\n",
       "    .dataframe tbody tr th:only-of-type {\n",
       "        vertical-align: middle;\n",
       "    }\n",
       "\n",
       "    .dataframe tbody tr th {\n",
       "        vertical-align: top;\n",
       "    }\n",
       "\n",
       "    .dataframe thead th {\n",
       "        text-align: right;\n",
       "    }\n",
       "</style>\n",
       "<table border=\"1\" class=\"dataframe\">\n",
       "  <thead>\n",
       "    <tr style=\"text-align: right;\">\n",
       "      <th></th>\n",
       "      <th>Row_ID</th>\n",
       "      <th>Accurate_Episode_Date</th>\n",
       "      <th>Case_Reported_Date</th>\n",
       "      <th>Test_Reported_Date</th>\n",
       "      <th>Specimen_Date</th>\n",
       "      <th>Age_Group</th>\n",
       "      <th>Client_Gender</th>\n",
       "      <th>Outcome1</th>\n",
       "      <th>Reporting_PHU_ID</th>\n",
       "      <th>Reporting_PHU</th>\n",
       "      <th>Reporting_PHU_Address</th>\n",
       "      <th>Reporting_PHU_City</th>\n",
       "      <th>Reporting_PHU_Postal_Code</th>\n",
       "      <th>Reporting_PHU_Website</th>\n",
       "      <th>Reporting_PHU_Latitude</th>\n",
       "      <th>Reporting_PHU_Longitude</th>\n",
       "    </tr>\n",
       "  </thead>\n",
       "  <tbody>\n",
       "    <tr>\n",
       "      <th>0</th>\n",
       "      <td>1</td>\n",
       "      <td>1934-09-28</td>\n",
       "      <td>2022-09-29</td>\n",
       "      <td>2022-09-29</td>\n",
       "      <td>2022-09-27</td>\n",
       "      <td>&lt;20</td>\n",
       "      <td>FEMALE</td>\n",
       "      <td>NaN</td>\n",
       "      <td>2262</td>\n",
       "      <td>Thunder Bay District Health Unit</td>\n",
       "      <td>999 Balmoral Street</td>\n",
       "      <td>Thunder Bay</td>\n",
       "      <td>P7B 6E7</td>\n",
       "      <td>www.tbdhu.com</td>\n",
       "      <td>48.400572</td>\n",
       "      <td>-89.258851</td>\n",
       "    </tr>\n",
       "    <tr>\n",
       "      <th>1</th>\n",
       "      <td>2</td>\n",
       "      <td>1989-02-21</td>\n",
       "      <td>2022-11-08</td>\n",
       "      <td>2022-11-07</td>\n",
       "      <td>2022-11-06</td>\n",
       "      <td>&lt;20</td>\n",
       "      <td>FEMALE</td>\n",
       "      <td>NaN</td>\n",
       "      <td>2270</td>\n",
       "      <td>York Region Public Health Services</td>\n",
       "      <td>17250 Yonge Street</td>\n",
       "      <td>Newmarket</td>\n",
       "      <td>L3Y 6Z1</td>\n",
       "      <td>www.york.ca/wps/portal/yorkhome/health/</td>\n",
       "      <td>44.048023</td>\n",
       "      <td>-79.480239</td>\n",
       "    </tr>\n",
       "    <tr>\n",
       "      <th>2</th>\n",
       "      <td>3</td>\n",
       "      <td>2000-03-01</td>\n",
       "      <td>2022-01-30</td>\n",
       "      <td>NaN</td>\n",
       "      <td>2000-03-01</td>\n",
       "      <td>&lt;20</td>\n",
       "      <td>FEMALE</td>\n",
       "      <td>NaN</td>\n",
       "      <td>2243</td>\n",
       "      <td>Leeds, Grenville and Lanark District Health Unit</td>\n",
       "      <td>458 Laurier Boulevard</td>\n",
       "      <td>Brockville</td>\n",
       "      <td>K6V 7A3</td>\n",
       "      <td>www.healthunit.org</td>\n",
       "      <td>44.615843</td>\n",
       "      <td>-75.702833</td>\n",
       "    </tr>\n",
       "    <tr>\n",
       "      <th>3</th>\n",
       "      <td>4</td>\n",
       "      <td>2002-07-06</td>\n",
       "      <td>2022-07-06</td>\n",
       "      <td>2022-07-07</td>\n",
       "      <td>2002-07-06</td>\n",
       "      <td>20s</td>\n",
       "      <td>FEMALE</td>\n",
       "      <td>NaN</td>\n",
       "      <td>2270</td>\n",
       "      <td>York Region Public Health Services</td>\n",
       "      <td>17250 Yonge Street</td>\n",
       "      <td>Newmarket</td>\n",
       "      <td>L3Y 6Z1</td>\n",
       "      <td>www.york.ca/wps/portal/yorkhome/health/</td>\n",
       "      <td>44.048023</td>\n",
       "      <td>-79.480239</td>\n",
       "    </tr>\n",
       "    <tr>\n",
       "      <th>4</th>\n",
       "      <td>5</td>\n",
       "      <td>2002-08-08</td>\n",
       "      <td>2022-08-15</td>\n",
       "      <td>2022-08-15</td>\n",
       "      <td>2022-08-14</td>\n",
       "      <td>60s</td>\n",
       "      <td>MALE</td>\n",
       "      <td>NaN</td>\n",
       "      <td>2233</td>\n",
       "      <td>Grey Bruce Health Unit</td>\n",
       "      <td>101 17th Street East</td>\n",
       "      <td>Owen Sound</td>\n",
       "      <td>N4K 0A5</td>\n",
       "      <td>www.publichealthgreybruce.on.ca/</td>\n",
       "      <td>44.576196</td>\n",
       "      <td>-80.940980</td>\n",
       "    </tr>\n",
       "    <tr>\n",
       "      <th>5</th>\n",
       "      <td>6</td>\n",
       "      <td>2008-08-27</td>\n",
       "      <td>2022-08-28</td>\n",
       "      <td>2022-08-28</td>\n",
       "      <td>2022-08-27</td>\n",
       "      <td>70s</td>\n",
       "      <td>FEMALE</td>\n",
       "      <td>NaN</td>\n",
       "      <td>2233</td>\n",
       "      <td>Grey Bruce Health Unit</td>\n",
       "      <td>101 17th Street East</td>\n",
       "      <td>Owen Sound</td>\n",
       "      <td>N4K 0A5</td>\n",
       "      <td>www.publichealthgreybruce.on.ca/</td>\n",
       "      <td>44.576196</td>\n",
       "      <td>-80.940980</td>\n",
       "    </tr>\n",
       "    <tr>\n",
       "      <th>6</th>\n",
       "      <td>7</td>\n",
       "      <td>2017-01-12</td>\n",
       "      <td>2023-01-17</td>\n",
       "      <td>2023-01-17</td>\n",
       "      <td>2023-01-16</td>\n",
       "      <td>40s</td>\n",
       "      <td>MALE</td>\n",
       "      <td>NaN</td>\n",
       "      <td>2237</td>\n",
       "      <td>Hamilton Public Health Services</td>\n",
       "      <td>110 King St. West, 2nd Floor</td>\n",
       "      <td>Hamilton</td>\n",
       "      <td>L8P 4S6</td>\n",
       "      <td>www.hamilton.ca/publichealth</td>\n",
       "      <td>43.257631</td>\n",
       "      <td>-79.871341</td>\n",
       "    </tr>\n",
       "  </tbody>\n",
       "</table>\n",
       "</div>"
      ],
      "text/plain": [
       "   Row_ID Accurate_Episode_Date Case_Reported_Date Test_Reported_Date  \\\n",
       "0       1            1934-09-28         2022-09-29         2022-09-29   \n",
       "1       2            1989-02-21         2022-11-08         2022-11-07   \n",
       "2       3            2000-03-01         2022-01-30                NaN   \n",
       "3       4            2002-07-06         2022-07-06         2022-07-07   \n",
       "4       5            2002-08-08         2022-08-15         2022-08-15   \n",
       "5       6            2008-08-27         2022-08-28         2022-08-28   \n",
       "6       7            2017-01-12         2023-01-17         2023-01-17   \n",
       "\n",
       "  Specimen_Date Age_Group Client_Gender Outcome1  Reporting_PHU_ID  \\\n",
       "0    2022-09-27       <20        FEMALE      NaN              2262   \n",
       "1    2022-11-06       <20        FEMALE      NaN              2270   \n",
       "2    2000-03-01       <20        FEMALE      NaN              2243   \n",
       "3    2002-07-06       20s        FEMALE      NaN              2270   \n",
       "4    2022-08-14       60s          MALE      NaN              2233   \n",
       "5    2022-08-27       70s        FEMALE      NaN              2233   \n",
       "6    2023-01-16       40s          MALE      NaN              2237   \n",
       "\n",
       "                                      Reporting_PHU  \\\n",
       "0                  Thunder Bay District Health Unit   \n",
       "1                York Region Public Health Services   \n",
       "2  Leeds, Grenville and Lanark District Health Unit   \n",
       "3                York Region Public Health Services   \n",
       "4                            Grey Bruce Health Unit   \n",
       "5                            Grey Bruce Health Unit   \n",
       "6                   Hamilton Public Health Services   \n",
       "\n",
       "          Reporting_PHU_Address Reporting_PHU_City Reporting_PHU_Postal_Code  \\\n",
       "0           999 Balmoral Street        Thunder Bay                   P7B 6E7   \n",
       "1            17250 Yonge Street          Newmarket                   L3Y 6Z1   \n",
       "2         458 Laurier Boulevard         Brockville                   K6V 7A3   \n",
       "3            17250 Yonge Street          Newmarket                   L3Y 6Z1   \n",
       "4          101 17th Street East         Owen Sound                   N4K 0A5   \n",
       "5          101 17th Street East         Owen Sound                   N4K 0A5   \n",
       "6  110 King St. West, 2nd Floor           Hamilton                   L8P 4S6   \n",
       "\n",
       "                     Reporting_PHU_Website  Reporting_PHU_Latitude  \\\n",
       "0                            www.tbdhu.com               48.400572   \n",
       "1  www.york.ca/wps/portal/yorkhome/health/               44.048023   \n",
       "2                       www.healthunit.org               44.615843   \n",
       "3  www.york.ca/wps/portal/yorkhome/health/               44.048023   \n",
       "4         www.publichealthgreybruce.on.ca/               44.576196   \n",
       "5         www.publichealthgreybruce.on.ca/               44.576196   \n",
       "6             www.hamilton.ca/publichealth               43.257631   \n",
       "\n",
       "   Reporting_PHU_Longitude  \n",
       "0               -89.258851  \n",
       "1               -79.480239  \n",
       "2               -75.702833  \n",
       "3               -79.480239  \n",
       "4               -80.940980  \n",
       "5               -80.940980  \n",
       "6               -79.871341  "
      ]
     },
     "execution_count": 33,
     "metadata": {},
     "output_type": "execute_result"
    }
   ],
   "source": [
    "all_cases.head(7)"
   ]
  },
  {
   "cell_type": "code",
   "execution_count": 4,
   "id": "6291fb36-afad-49ca-bd87-c0ff136eb68c",
   "metadata": {},
   "outputs": [
    {
     "data": {
      "text/html": [
       "<div>\n",
       "<style scoped>\n",
       "    .dataframe tbody tr th:only-of-type {\n",
       "        vertical-align: middle;\n",
       "    }\n",
       "\n",
       "    .dataframe tbody tr th {\n",
       "        vertical-align: top;\n",
       "    }\n",
       "\n",
       "    .dataframe thead th {\n",
       "        text-align: right;\n",
       "    }\n",
       "</style>\n",
       "<table border=\"1\" class=\"dataframe\">\n",
       "  <thead>\n",
       "    <tr style=\"text-align: right;\">\n",
       "      <th></th>\n",
       "      <th>Row_ID</th>\n",
       "      <th>Accurate_Episode_Date</th>\n",
       "      <th>Case_Reported_Date</th>\n",
       "      <th>Test_Reported_Date</th>\n",
       "      <th>Specimen_Date</th>\n",
       "      <th>Age_Group</th>\n",
       "      <th>Client_Gender</th>\n",
       "      <th>Outcome1</th>\n",
       "      <th>Reporting_PHU_ID</th>\n",
       "      <th>Reporting_PHU</th>\n",
       "      <th>Reporting_PHU_Address</th>\n",
       "      <th>Reporting_PHU_City</th>\n",
       "      <th>Reporting_PHU_Postal_Code</th>\n",
       "      <th>Reporting_PHU_Website</th>\n",
       "      <th>Reporting_PHU_Latitude</th>\n",
       "      <th>Reporting_PHU_Longitude</th>\n",
       "    </tr>\n",
       "  </thead>\n",
       "  <tbody>\n",
       "    <tr>\n",
       "      <th>1663519</th>\n",
       "      <td>1663520</td>\n",
       "      <td>2023-11-14</td>\n",
       "      <td>2023-11-14</td>\n",
       "      <td>2023-11-14</td>\n",
       "      <td>2023-11-14</td>\n",
       "      <td>90+</td>\n",
       "      <td>MALE</td>\n",
       "      <td>NaN</td>\n",
       "      <td>2261</td>\n",
       "      <td>Sudbury &amp; District Health Unit</td>\n",
       "      <td>1300 Paris Street</td>\n",
       "      <td>Sudbury</td>\n",
       "      <td>P3E 3A3</td>\n",
       "      <td>www.phsd.ca</td>\n",
       "      <td>46.466092</td>\n",
       "      <td>-80.998059</td>\n",
       "    </tr>\n",
       "    <tr>\n",
       "      <th>1663520</th>\n",
       "      <td>1663521</td>\n",
       "      <td>2023-11-14</td>\n",
       "      <td>2023-11-14</td>\n",
       "      <td>2023-11-14</td>\n",
       "      <td>2023-11-14</td>\n",
       "      <td>90+</td>\n",
       "      <td>MALE</td>\n",
       "      <td>NaN</td>\n",
       "      <td>2235</td>\n",
       "      <td>Haliburton, Kawartha, Pine Ridge District Heal...</td>\n",
       "      <td>200 Rose Glen Road</td>\n",
       "      <td>Port Hope</td>\n",
       "      <td>L1A 3V6</td>\n",
       "      <td>www.hkpr.on.ca/</td>\n",
       "      <td>43.968173</td>\n",
       "      <td>-78.285792</td>\n",
       "    </tr>\n",
       "    <tr>\n",
       "      <th>1663521</th>\n",
       "      <td>1663522</td>\n",
       "      <td>2023-11-14</td>\n",
       "      <td>2023-11-14</td>\n",
       "      <td>2023-11-14</td>\n",
       "      <td>2023-11-14</td>\n",
       "      <td>90+</td>\n",
       "      <td>MALE</td>\n",
       "      <td>NaN</td>\n",
       "      <td>2230</td>\n",
       "      <td>Durham Region Health Department</td>\n",
       "      <td>605 Rossland Road East</td>\n",
       "      <td>Whitby</td>\n",
       "      <td>L1N 0B2</td>\n",
       "      <td>www.durham.ca/en/health-and-wellness/health-an...</td>\n",
       "      <td>43.898605</td>\n",
       "      <td>-78.940341</td>\n",
       "    </tr>\n",
       "    <tr>\n",
       "      <th>1663522</th>\n",
       "      <td>1663523</td>\n",
       "      <td>2023-11-14</td>\n",
       "      <td>2023-11-14</td>\n",
       "      <td>2023-11-14</td>\n",
       "      <td>2023-11-14</td>\n",
       "      <td>&lt;20</td>\n",
       "      <td>FEMALE</td>\n",
       "      <td>NaN</td>\n",
       "      <td>2270</td>\n",
       "      <td>York Region Public Health Services</td>\n",
       "      <td>17250 Yonge Street</td>\n",
       "      <td>Newmarket</td>\n",
       "      <td>L3Y 6Z1</td>\n",
       "      <td>www.york.ca/wps/portal/yorkhome/health/</td>\n",
       "      <td>44.048023</td>\n",
       "      <td>-79.480239</td>\n",
       "    </tr>\n",
       "    <tr>\n",
       "      <th>1663523</th>\n",
       "      <td>1663524</td>\n",
       "      <td>2023-11-14</td>\n",
       "      <td>2023-11-14</td>\n",
       "      <td>2023-11-14</td>\n",
       "      <td>2023-11-14</td>\n",
       "      <td>&lt;20</td>\n",
       "      <td>MALE</td>\n",
       "      <td>NaN</td>\n",
       "      <td>2251</td>\n",
       "      <td>Ottawa Public Health</td>\n",
       "      <td>100 Constellation Drive</td>\n",
       "      <td>Ottawa</td>\n",
       "      <td>K2G 6J8</td>\n",
       "      <td>www.ottawapublichealth.ca</td>\n",
       "      <td>45.345665</td>\n",
       "      <td>-75.763912</td>\n",
       "    </tr>\n",
       "  </tbody>\n",
       "</table>\n",
       "</div>"
      ],
      "text/plain": [
       "          Row_ID Accurate_Episode_Date Case_Reported_Date Test_Reported_Date  \\\n",
       "1663519  1663520            2023-11-14         2023-11-14         2023-11-14   \n",
       "1663520  1663521            2023-11-14         2023-11-14         2023-11-14   \n",
       "1663521  1663522            2023-11-14         2023-11-14         2023-11-14   \n",
       "1663522  1663523            2023-11-14         2023-11-14         2023-11-14   \n",
       "1663523  1663524            2023-11-14         2023-11-14         2023-11-14   \n",
       "\n",
       "        Specimen_Date Age_Group Client_Gender Outcome1  Reporting_PHU_ID  \\\n",
       "1663519    2023-11-14       90+          MALE      NaN              2261   \n",
       "1663520    2023-11-14       90+          MALE      NaN              2235   \n",
       "1663521    2023-11-14       90+          MALE      NaN              2230   \n",
       "1663522    2023-11-14       <20        FEMALE      NaN              2270   \n",
       "1663523    2023-11-14       <20          MALE      NaN              2251   \n",
       "\n",
       "                                             Reporting_PHU  \\\n",
       "1663519                     Sudbury & District Health Unit   \n",
       "1663520  Haliburton, Kawartha, Pine Ridge District Heal...   \n",
       "1663521                    Durham Region Health Department   \n",
       "1663522                 York Region Public Health Services   \n",
       "1663523                               Ottawa Public Health   \n",
       "\n",
       "           Reporting_PHU_Address Reporting_PHU_City Reporting_PHU_Postal_Code  \\\n",
       "1663519        1300 Paris Street            Sudbury                   P3E 3A3   \n",
       "1663520       200 Rose Glen Road          Port Hope                   L1A 3V6   \n",
       "1663521   605 Rossland Road East             Whitby                   L1N 0B2   \n",
       "1663522       17250 Yonge Street          Newmarket                   L3Y 6Z1   \n",
       "1663523  100 Constellation Drive             Ottawa                   K2G 6J8   \n",
       "\n",
       "                                     Reporting_PHU_Website  \\\n",
       "1663519                                        www.phsd.ca   \n",
       "1663520                                    www.hkpr.on.ca/   \n",
       "1663521  www.durham.ca/en/health-and-wellness/health-an...   \n",
       "1663522            www.york.ca/wps/portal/yorkhome/health/   \n",
       "1663523                          www.ottawapublichealth.ca   \n",
       "\n",
       "         Reporting_PHU_Latitude  Reporting_PHU_Longitude  \n",
       "1663519               46.466092               -80.998059  \n",
       "1663520               43.968173               -78.285792  \n",
       "1663521               43.898605               -78.940341  \n",
       "1663522               44.048023               -79.480239  \n",
       "1663523               45.345665               -75.763912  "
      ]
     },
     "execution_count": 4,
     "metadata": {},
     "output_type": "execute_result"
    }
   ],
   "source": [
    "all_cases.tail()"
   ]
  },
  {
   "cell_type": "markdown",
   "id": "e3a3d3c2",
   "metadata": {},
   "source": [
    "I am getting into the habit of pressing the 'Tab' and 'Shift+Tab' keys to learn about the functions, as well as using ChatGPT as a co-pilot tool in learning the Pandas package.\n",
    "\n",
    "The `all_cases.info()` function in Pandas is an tool for getting an initial overview of a dataset. When invoked on a DataFrame, it provides crucial information including:\n",
    "\n",
    "- The total number of entries and range index, which gives an idea about the size of the dataset.\n",
    "- The total number of columns, along with the names of these columns, which helps in understanding the different data points captured in the dataset.\n",
    "- The count of non-null entries in each column, which is essential for assessing the completeness of the data.\n",
    "- The data type (`Dtype`) of each column, which is critical for determining the appropriate analysis or data manipulation techniques. For instance, knowing whether a column is treated as an integer (`int64`), a floating point number (`float64`), or an object (often strings) can affect how you handle these columns in your analysis.\n",
    "- The memory usage of the dataset, which provides insights into the load this dataset will place on your system's memory, thus helping in resource allocation.\n",
    "\n",
    "For example, running this function on the all_cases DataFrame revealed that it contains over 1.6 million entries with 16 columns. The details about each column, such as the `Row_ID` being non-null integers and `Accurate_Episode_Date` being non-null objects, help in planning data preprocessing steps. The presence of null values in columns like `Test_Reported_Date` and `Specimen_Date` indicates areas where data cleaning might be necessary.\n",
    "\n",
    "**Using `all_cases.info()` is a best practice for initial data exploration, providing a quick, at-a-glance summary of the dataset's structure and composition.**"
   ]
  },
  {
   "cell_type": "code",
   "execution_count": 34,
   "id": "71a35575",
   "metadata": {
    "scrolled": true
   },
   "outputs": [
    {
     "name": "stdout",
     "output_type": "stream",
     "text": [
      "<class 'pandas.core.frame.DataFrame'>\n",
      "RangeIndex: 1663524 entries, 0 to 1663523\n",
      "Data columns (total 16 columns):\n",
      " #   Column                     Non-Null Count    Dtype  \n",
      "---  ------                     --------------    -----  \n",
      " 0   Row_ID                     1663524 non-null  int64  \n",
      " 1   Accurate_Episode_Date      1663524 non-null  object \n",
      " 2   Case_Reported_Date         1663524 non-null  object \n",
      " 3   Test_Reported_Date         1612554 non-null  object \n",
      " 4   Specimen_Date              1651770 non-null  object \n",
      " 5   Age_Group                  1663524 non-null  object \n",
      " 6   Client_Gender              1663524 non-null  object \n",
      " 7   Outcome1                   17132 non-null    object \n",
      " 8   Reporting_PHU_ID           1663524 non-null  int64  \n",
      " 9   Reporting_PHU              1663524 non-null  object \n",
      " 10  Reporting_PHU_Address      1663524 non-null  object \n",
      " 11  Reporting_PHU_City         1663524 non-null  object \n",
      " 12  Reporting_PHU_Postal_Code  1663524 non-null  object \n",
      " 13  Reporting_PHU_Website      1663524 non-null  object \n",
      " 14  Reporting_PHU_Latitude     1663524 non-null  float64\n",
      " 15  Reporting_PHU_Longitude    1663524 non-null  float64\n",
      "dtypes: float64(2), int64(2), object(12)\n",
      "memory usage: 203.1+ MB\n"
     ]
    }
   ],
   "source": [
    "all_cases.info()"
   ]
  },
  {
   "cell_type": "code",
   "execution_count": 35,
   "id": "afffd602-58ba-402d-8c5d-cf19b5b9d97f",
   "metadata": {},
   "outputs": [
    {
     "data": {
      "text/html": [
       "<div>\n",
       "<style scoped>\n",
       "    .dataframe tbody tr th:only-of-type {\n",
       "        vertical-align: middle;\n",
       "    }\n",
       "\n",
       "    .dataframe tbody tr th {\n",
       "        vertical-align: top;\n",
       "    }\n",
       "\n",
       "    .dataframe thead th {\n",
       "        text-align: right;\n",
       "    }\n",
       "</style>\n",
       "<table border=\"1\" class=\"dataframe\">\n",
       "  <thead>\n",
       "    <tr style=\"text-align: right;\">\n",
       "      <th></th>\n",
       "      <th>Row_ID</th>\n",
       "      <th>Reporting_PHU_ID</th>\n",
       "      <th>Reporting_PHU_Latitude</th>\n",
       "      <th>Reporting_PHU_Longitude</th>\n",
       "    </tr>\n",
       "  </thead>\n",
       "  <tbody>\n",
       "    <tr>\n",
       "      <th>count</th>\n",
       "      <td>1.663524e+06</td>\n",
       "      <td>1.663524e+06</td>\n",
       "      <td>1.663524e+06</td>\n",
       "      <td>1.663524e+06</td>\n",
       "    </tr>\n",
       "    <tr>\n",
       "      <th>mean</th>\n",
       "      <td>8.317625e+05</td>\n",
       "      <td>2.687537e+03</td>\n",
       "      <td>4.396072e+01</td>\n",
       "      <td>-7.973812e+01</td>\n",
       "    </tr>\n",
       "    <tr>\n",
       "      <th>std</th>\n",
       "      <td>4.802182e+05</td>\n",
       "      <td>7.634564e+02</td>\n",
       "      <td>1.149202e+00</td>\n",
       "      <td>2.390045e+00</td>\n",
       "    </tr>\n",
       "    <tr>\n",
       "      <th>min</th>\n",
       "      <td>1.000000e+00</td>\n",
       "      <td>2.226000e+03</td>\n",
       "      <td>4.230880e+01</td>\n",
       "      <td>-9.448825e+01</td>\n",
       "    </tr>\n",
       "    <tr>\n",
       "      <th>25%</th>\n",
       "      <td>4.158818e+05</td>\n",
       "      <td>2.246000e+03</td>\n",
       "      <td>4.346288e+01</td>\n",
       "      <td>-7.987134e+01</td>\n",
       "    </tr>\n",
       "    <tr>\n",
       "      <th>50%</th>\n",
       "      <td>8.317625e+05</td>\n",
       "      <td>2.257000e+03</td>\n",
       "      <td>4.365659e+01</td>\n",
       "      <td>-7.948024e+01</td>\n",
       "    </tr>\n",
       "    <tr>\n",
       "      <th>75%</th>\n",
       "      <td>1.247643e+06</td>\n",
       "      <td>3.895000e+03</td>\n",
       "      <td>4.404802e+01</td>\n",
       "      <td>-7.937936e+01</td>\n",
       "    </tr>\n",
       "    <tr>\n",
       "      <th>max</th>\n",
       "      <td>1.663524e+06</td>\n",
       "      <td>5.183000e+03</td>\n",
       "      <td>4.976961e+01</td>\n",
       "      <td>-7.473630e+01</td>\n",
       "    </tr>\n",
       "  </tbody>\n",
       "</table>\n",
       "</div>"
      ],
      "text/plain": [
       "             Row_ID  Reporting_PHU_ID  Reporting_PHU_Latitude  \\\n",
       "count  1.663524e+06      1.663524e+06            1.663524e+06   \n",
       "mean   8.317625e+05      2.687537e+03            4.396072e+01   \n",
       "std    4.802182e+05      7.634564e+02            1.149202e+00   \n",
       "min    1.000000e+00      2.226000e+03            4.230880e+01   \n",
       "25%    4.158818e+05      2.246000e+03            4.346288e+01   \n",
       "50%    8.317625e+05      2.257000e+03            4.365659e+01   \n",
       "75%    1.247643e+06      3.895000e+03            4.404802e+01   \n",
       "max    1.663524e+06      5.183000e+03            4.976961e+01   \n",
       "\n",
       "       Reporting_PHU_Longitude  \n",
       "count             1.663524e+06  \n",
       "mean             -7.973812e+01  \n",
       "std               2.390045e+00  \n",
       "min              -9.448825e+01  \n",
       "25%              -7.987134e+01  \n",
       "50%              -7.948024e+01  \n",
       "75%              -7.937936e+01  \n",
       "max              -7.473630e+01  "
      ]
     },
     "execution_count": 35,
     "metadata": {},
     "output_type": "execute_result"
    }
   ],
   "source": [
    "all_cases.describe()"
   ]
  },
  {
   "cell_type": "markdown",
   "id": "57464a4f-17fe-4bf6-9c26-cfca959109a1",
   "metadata": {},
   "source": [
    "In this section, I explore methods to filter, group, and summarize data. Once our data is loaded into a DataFrame, the usual next step involves selecting and filtering the data of interest. Pandas provides various methods for indexing and selecting data. These include `.loc[]` for label-based indexing and `.iloc[]` for positional indexing. Let's select all cases where the accurate episode date is after '2023-09-01'."
   ]
  },
  {
   "cell_type": "code",
   "execution_count": 36,
   "id": "89b843f5-c16d-474e-803e-3c324293b9b7",
   "metadata": {
    "scrolled": true
   },
   "outputs": [
    {
     "data": {
      "text/html": [
       "<div>\n",
       "<style scoped>\n",
       "    .dataframe tbody tr th:only-of-type {\n",
       "        vertical-align: middle;\n",
       "    }\n",
       "\n",
       "    .dataframe tbody tr th {\n",
       "        vertical-align: top;\n",
       "    }\n",
       "\n",
       "    .dataframe thead th {\n",
       "        text-align: right;\n",
       "    }\n",
       "</style>\n",
       "<table border=\"1\" class=\"dataframe\">\n",
       "  <thead>\n",
       "    <tr style=\"text-align: right;\">\n",
       "      <th></th>\n",
       "      <th>Row_ID</th>\n",
       "      <th>Accurate_Episode_Date</th>\n",
       "      <th>Case_Reported_Date</th>\n",
       "      <th>Test_Reported_Date</th>\n",
       "      <th>Specimen_Date</th>\n",
       "      <th>Age_Group</th>\n",
       "      <th>Client_Gender</th>\n",
       "      <th>Outcome1</th>\n",
       "      <th>Reporting_PHU_ID</th>\n",
       "      <th>Reporting_PHU</th>\n",
       "      <th>Reporting_PHU_Address</th>\n",
       "      <th>Reporting_PHU_City</th>\n",
       "      <th>Reporting_PHU_Postal_Code</th>\n",
       "      <th>Reporting_PHU_Website</th>\n",
       "      <th>Reporting_PHU_Latitude</th>\n",
       "      <th>Reporting_PHU_Longitude</th>\n",
       "    </tr>\n",
       "  </thead>\n",
       "  <tbody>\n",
       "    <tr>\n",
       "      <th>1428234</th>\n",
       "      <td>1428235</td>\n",
       "      <td>2022-09-02</td>\n",
       "      <td>2022-09-02</td>\n",
       "      <td>NaN</td>\n",
       "      <td>NaN</td>\n",
       "      <td>20s</td>\n",
       "      <td>MALE</td>\n",
       "      <td>NaN</td>\n",
       "      <td>2249</td>\n",
       "      <td>Northwestern Health Unit</td>\n",
       "      <td>210 First Street North</td>\n",
       "      <td>Kenora</td>\n",
       "      <td>P9N 2K4</td>\n",
       "      <td>www.nwhu.on.ca</td>\n",
       "      <td>49.769615</td>\n",
       "      <td>-94.488254</td>\n",
       "    </tr>\n",
       "    <tr>\n",
       "      <th>1428235</th>\n",
       "      <td>1428236</td>\n",
       "      <td>2022-09-02</td>\n",
       "      <td>2022-09-02</td>\n",
       "      <td>NaN</td>\n",
       "      <td>NaN</td>\n",
       "      <td>30s</td>\n",
       "      <td>MALE</td>\n",
       "      <td>NaN</td>\n",
       "      <td>2249</td>\n",
       "      <td>Northwestern Health Unit</td>\n",
       "      <td>210 First Street North</td>\n",
       "      <td>Kenora</td>\n",
       "      <td>P9N 2K4</td>\n",
       "      <td>www.nwhu.on.ca</td>\n",
       "      <td>49.769615</td>\n",
       "      <td>-94.488254</td>\n",
       "    </tr>\n",
       "    <tr>\n",
       "      <th>1428236</th>\n",
       "      <td>1428237</td>\n",
       "      <td>2022-09-02</td>\n",
       "      <td>2022-09-02</td>\n",
       "      <td>NaN</td>\n",
       "      <td>NaN</td>\n",
       "      <td>30s</td>\n",
       "      <td>MALE</td>\n",
       "      <td>NaN</td>\n",
       "      <td>2249</td>\n",
       "      <td>Northwestern Health Unit</td>\n",
       "      <td>210 First Street North</td>\n",
       "      <td>Kenora</td>\n",
       "      <td>P9N 2K4</td>\n",
       "      <td>www.nwhu.on.ca</td>\n",
       "      <td>49.769615</td>\n",
       "      <td>-94.488254</td>\n",
       "    </tr>\n",
       "    <tr>\n",
       "      <th>1428237</th>\n",
       "      <td>1428238</td>\n",
       "      <td>2022-09-02</td>\n",
       "      <td>2022-09-02</td>\n",
       "      <td>NaN</td>\n",
       "      <td>NaN</td>\n",
       "      <td>40s</td>\n",
       "      <td>FEMALE</td>\n",
       "      <td>NaN</td>\n",
       "      <td>2249</td>\n",
       "      <td>Northwestern Health Unit</td>\n",
       "      <td>210 First Street North</td>\n",
       "      <td>Kenora</td>\n",
       "      <td>P9N 2K4</td>\n",
       "      <td>www.nwhu.on.ca</td>\n",
       "      <td>49.769615</td>\n",
       "      <td>-94.488254</td>\n",
       "    </tr>\n",
       "    <tr>\n",
       "      <th>1428238</th>\n",
       "      <td>1428239</td>\n",
       "      <td>2022-09-02</td>\n",
       "      <td>2022-09-02</td>\n",
       "      <td>NaN</td>\n",
       "      <td>NaN</td>\n",
       "      <td>40s</td>\n",
       "      <td>FEMALE</td>\n",
       "      <td>NaN</td>\n",
       "      <td>2249</td>\n",
       "      <td>Northwestern Health Unit</td>\n",
       "      <td>210 First Street North</td>\n",
       "      <td>Kenora</td>\n",
       "      <td>P9N 2K4</td>\n",
       "      <td>www.nwhu.on.ca</td>\n",
       "      <td>49.769615</td>\n",
       "      <td>-94.488254</td>\n",
       "    </tr>\n",
       "  </tbody>\n",
       "</table>\n",
       "</div>"
      ],
      "text/plain": [
       "          Row_ID Accurate_Episode_Date Case_Reported_Date Test_Reported_Date  \\\n",
       "1428234  1428235            2022-09-02         2022-09-02                NaN   \n",
       "1428235  1428236            2022-09-02         2022-09-02                NaN   \n",
       "1428236  1428237            2022-09-02         2022-09-02                NaN   \n",
       "1428237  1428238            2022-09-02         2022-09-02                NaN   \n",
       "1428238  1428239            2022-09-02         2022-09-02                NaN   \n",
       "\n",
       "        Specimen_Date Age_Group Client_Gender Outcome1  Reporting_PHU_ID  \\\n",
       "1428234           NaN       20s          MALE      NaN              2249   \n",
       "1428235           NaN       30s          MALE      NaN              2249   \n",
       "1428236           NaN       30s          MALE      NaN              2249   \n",
       "1428237           NaN       40s        FEMALE      NaN              2249   \n",
       "1428238           NaN       40s        FEMALE      NaN              2249   \n",
       "\n",
       "                    Reporting_PHU   Reporting_PHU_Address Reporting_PHU_City  \\\n",
       "1428234  Northwestern Health Unit  210 First Street North             Kenora   \n",
       "1428235  Northwestern Health Unit  210 First Street North             Kenora   \n",
       "1428236  Northwestern Health Unit  210 First Street North             Kenora   \n",
       "1428237  Northwestern Health Unit  210 First Street North             Kenora   \n",
       "1428238  Northwestern Health Unit  210 First Street North             Kenora   \n",
       "\n",
       "        Reporting_PHU_Postal_Code Reporting_PHU_Website  \\\n",
       "1428234                   P9N 2K4        www.nwhu.on.ca   \n",
       "1428235                   P9N 2K4        www.nwhu.on.ca   \n",
       "1428236                   P9N 2K4        www.nwhu.on.ca   \n",
       "1428237                   P9N 2K4        www.nwhu.on.ca   \n",
       "1428238                   P9N 2K4        www.nwhu.on.ca   \n",
       "\n",
       "         Reporting_PHU_Latitude  Reporting_PHU_Longitude  \n",
       "1428234               49.769615               -94.488254  \n",
       "1428235               49.769615               -94.488254  \n",
       "1428236               49.769615               -94.488254  \n",
       "1428237               49.769615               -94.488254  \n",
       "1428238               49.769615               -94.488254  "
      ]
     },
     "execution_count": 36,
     "metadata": {},
     "output_type": "execute_result"
    }
   ],
   "source": [
    "all_cases = all_cases.loc[all_cases['Accurate_Episode_Date'] > '2022-09-01']\n",
    "all_cases.head()"
   ]
  },
  {
   "cell_type": "code",
   "execution_count": 37,
   "id": "e37a915a",
   "metadata": {
    "scrolled": true
   },
   "outputs": [
    {
     "data": {
      "text/plain": [
       "235290"
      ]
     },
     "execution_count": 37,
     "metadata": {},
     "output_type": "execute_result"
    }
   ],
   "source": [
    "len(all_cases)"
   ]
  },
  {
   "cell_type": "markdown",
   "id": "fa681a34",
   "metadata": {},
   "source": [
    "To find out how many cases were dropped"
   ]
  },
  {
   "cell_type": "code",
   "execution_count": 38,
   "id": "9b05030e",
   "metadata": {},
   "outputs": [
    {
     "data": {
      "text/plain": [
       "1428234"
      ]
     },
     "execution_count": 38,
     "metadata": {},
     "output_type": "execute_result"
    }
   ],
   "source": [
    "1663524  - 235290"
   ]
  },
  {
   "cell_type": "markdown",
   "id": "1fb69f93",
   "metadata": {},
   "source": [
    "To better understand the timeline of cases in our dataset, I calculated the average time intervals between `Accurate_Episode_Date`, `Case_Reported_Date`, and `Test_Reported_Date`. Specifically, I first determined the average time difference between the `Accurate_Episode_Date` and `Case_Reported_Date`, and then between the `Case_Reported_Date` and `Test_Reported_Date`.\n",
    "\n",
    "The results revealed that, on average, **cases were reported 1 days after the accurate episode date**. Interestingly, the **average time between the case reported date and the test reported date was -1 days**. This negative value suggests that, on average, tests are reported before the case is officially reported, which may warrant further investigation to understand the data collection process."
   ]
  },
  {
   "cell_type": "code",
   "execution_count": 39,
   "id": "41f5e6ce",
   "metadata": {},
   "outputs": [
    {
     "name": "stdout",
     "output_type": "stream",
     "text": [
      "Average time between Accurate Episode Date and Case Reported Date: 1 days\n",
      "Average time between Case Reported Date and Test Reported Date: -1 days\n"
     ]
    }
   ],
   "source": [
    "# Assuming all_cases is your DataFrame\n",
    "# Convert date columns to datetime\n",
    "all_cases['Accurate_Episode_Date'] = pd.to_datetime(all_cases['Accurate_Episode_Date'])\n",
    "all_cases['Case_Reported_Date'] = pd.to_datetime(all_cases['Case_Reported_Date'])\n",
    "all_cases['Test_Reported_Date'] = pd.to_datetime(all_cases['Test_Reported_Date'])\n",
    "\n",
    "# Calculate differences\n",
    "diff_accurate_case = all_cases['Case_Reported_Date'] - all_cases['Accurate_Episode_Date']\n",
    "diff_case_test = all_cases['Test_Reported_Date'] - all_cases['Case_Reported_Date']\n",
    "\n",
    "# Average time differences\n",
    "avg_diff_accurate_case = diff_accurate_case.mean()\n",
    "avg_diff_case_test = diff_case_test.mean()\n",
    "\n",
    "# Optionally convert Timedelta to a more readable format, like days\n",
    "avg_diff_accurate_case_days = avg_diff_accurate_case.days\n",
    "avg_diff_case_test_days = avg_diff_case_test.days\n",
    "\n",
    "print(\"Average time between Accurate Episode Date and Case Reported Date:\", avg_diff_accurate_case_days, \"days\")\n",
    "print(\"Average time between Case Reported Date and Test Reported Date:\", avg_diff_case_test_days, \"days\")\n"
   ]
  },
  {
   "cell_type": "code",
   "execution_count": null,
   "id": "deb7981f",
   "metadata": {},
   "outputs": [],
   "source": []
  },
  {
   "cell_type": "markdown",
   "id": "cc37cf10-b0af-4650-83c6-8ac0e4db70c0",
   "metadata": {},
   "source": [
    "**Data Cleaning**: This step involves renaming columns, handling missing values, and removing unnecessary data. Pandas offers a comprehensive set of tools to facilitate these tasks. Key functions include `.rename()` for renaming columns, `.dropna()` for removing rows with missing values, `.fillna()` for replacing missing values, and `.drop()` for eliminating unwanted columns or rows."
   ]
  },
  {
   "cell_type": "markdown",
   "id": "b3eb7dde-3bfc-4a70-9333-6ceaf9b32ba0",
   "metadata": {},
   "source": [
    "**Summarize:** How did the cases break down by age? .value_counts() will give us the count of the unique values"
   ]
  },
  {
   "cell_type": "code",
   "execution_count": 40,
   "id": "f521b625",
   "metadata": {},
   "outputs": [
    {
     "data": {
      "text/plain": [
       "Age_Group\n",
       "80s        42666\n",
       "70s        33069\n",
       "50s        27150\n",
       "60s        26780\n",
       "90+        26776\n",
       "30s        24890\n",
       "40s        23281\n",
       "20s        19640\n",
       "<20        10958\n",
       "UNKNOWN       80\n",
       "Name: count, dtype: int64"
      ]
     },
     "execution_count": 40,
     "metadata": {},
     "output_type": "execute_result"
    }
   ],
   "source": [
    "all_cases['Age_Group'].value_counts()"
   ]
  },
  {
   "cell_type": "markdown",
   "id": "3fc992d5-418a-4150-bcd7-8a0f1502e6b8",
   "metadata": {},
   "source": [
    "We can normalize it to get the proportions"
   ]
  },
  {
   "cell_type": "code",
   "execution_count": 41,
   "id": "47f50101-8b29-4a0c-b57a-a98596208a96",
   "metadata": {
    "scrolled": true
   },
   "outputs": [
    {
     "data": {
      "text/plain": [
       "Age_Group\n",
       "80s        0.181334\n",
       "70s        0.140546\n",
       "50s        0.115390\n",
       "60s        0.113817\n",
       "90+        0.113800\n",
       "30s        0.105784\n",
       "40s        0.098946\n",
       "20s        0.083471\n",
       "<20        0.046572\n",
       "UNKNOWN    0.000340\n",
       "Name: proportion, dtype: float64"
      ]
     },
     "execution_count": 41,
     "metadata": {},
     "output_type": "execute_result"
    }
   ],
   "source": [
    "all_cases['Age_Group'].value_counts(normalize=True)"
   ]
  },
  {
   "cell_type": "markdown",
   "id": "fdfa4514",
   "metadata": {},
   "source": [
    "For example, if we want to drop `UNKNOWN` from `Age_Group`"
   ]
  },
  {
   "cell_type": "code",
   "execution_count": 42,
   "id": "1745b794",
   "metadata": {},
   "outputs": [
    {
     "data": {
      "text/plain": [
       "Age_Group\n",
       "80s    42666\n",
       "70s    33069\n",
       "50s    27150\n",
       "60s    26780\n",
       "90+    26776\n",
       "30s    24890\n",
       "40s    23281\n",
       "20s    19640\n",
       "<20    10958\n",
       "Name: count, dtype: int64"
      ]
     },
     "execution_count": 42,
     "metadata": {},
     "output_type": "execute_result"
    }
   ],
   "source": [
    "all_cases = all_cases.loc[all_cases['Age_Group'] != 'UNKNOWN']\n",
    "all_cases['Age_Group'].value_counts()"
   ]
  },
  {
   "cell_type": "markdown",
   "id": "a10a8d57-e04f-49ee-a070-766e4a09d5b9",
   "metadata": {},
   "source": [
    "In this section, I utilize Pandas' built-in visualization capabilities to plot data directly from a DataFrame. This is accomplished using methods such as `.plot()` and `.hist()`, which are convenient for quickly visualizing data distributions and trends. For example, I use `all_cases['Age_Group'].value_counts(normalize=True).plot(kind='bar')` to create a bar plot. This  line of code calculates the normalized value counts of different age groups in the `all_cases` DataFrame and then plots these counts as a bar chart, providing a visual representation of the age distribution within the dataset. The resulting plot is labeled with 'Age_Group' on the x-axis."
   ]
  },
  {
   "cell_type": "code",
   "execution_count": 50,
   "id": "de3b421d-6885-4145-bd5e-1a7730af7c26",
   "metadata": {
    "scrolled": true
   },
   "outputs": [
    {
     "data": {
      "text/plain": [
       "<Axes: xlabel='Age_Group'>"
      ]
     },
     "execution_count": 50,
     "metadata": {},
     "output_type": "execute_result"
    },
    {
     "data": {
      "image/png": "[encoded data removed]",
      "text/plain": [
       "<Figure size 640x480 with 1 Axes>"
      ]
     },
     "metadata": {},
     "output_type": "display_data"
    }
   ],
   "source": [
    "all_cases['Age_Group'].value_counts(normalize=True).plot(kind='bar')"
   ]
  },
  {
   "cell_type": "markdown",
   "id": "1165a57d",
   "metadata": {},
   "source": [
    "The `all_cases.groupby(['Case_Reported_Date'])['Row_ID'].count().plot()` is used to create a plot that visualizes the count of cases reported on each date in the all_cases DataFrame. It starts by grouping the data by `Case_Reported_Date` using the `.groupby()` method. Within each group (each unique date), it counts the number of rows using the `.count()` method applied to the Row_ID column. This count represents the number of cases reported on each date. The resulting series, which has dates as the index and case counts as the values, is then plotted using the `.plot()` method. The plot generated is likely a line chart by default, showing the trend of case counts over time, with `Case_Reported_Date` on the x-axis.\""
   ]
  },
  {
   "cell_type": "code",
   "execution_count": 48,
   "id": "d943c49a-05af-46dc-bfa5-3aa5402ce23c",
   "metadata": {},
   "outputs": [
    {
     "data": {
      "text/plain": [
       "<Axes: xlabel='Case_Reported_Date'>"
      ]
     },
     "execution_count": 48,
     "metadata": {},
     "output_type": "execute_result"
    },
    {
     "data": {
      "image/png": "[encoded data removed]",
      "text/plain": [
       "<Figure size 640x480 with 1 Axes>"
      ]
     },
     "metadata": {},
     "output_type": "display_data"
    }
   ],
   "source": [
    "all_cases.groupby(['Case_Reported_Date'])['Row_ID'].count().plot()"
   ]
  }
 ],
 "metadata": {
  "kernelspec": {
   "display_name": "Python 3 (ipykernel)",
   "language": "python",
   "name": "python3"
  },
  "language_info": {
   "codemirror_mode": {
    "name": "ipython",
    "version": 3
   },
   "file_extension": ".py",
   "mimetype": "text/x-python",
   "name": "python",
   "nbconvert_exporter": "python",
   "pygments_lexer": "ipython3",
   "version": "3.11.5"
  },
  "varInspector": {
   "cols": {
    "lenName": 16,
    "lenType": 16,
    "lenVar": 40
   },
   "kernels_config": {
    "python": {
     "delete_cmd_postfix": "",
     "delete_cmd_prefix": "del ",
     "library": "var_list.py",
     "varRefreshCmd": "print(var_dic_list())"
    },
    "r": {
     "delete_cmd_postfix": ") ",
     "delete_cmd_prefix": "rm(",
     "library": "var_list.r",
     "varRefreshCmd": "cat(var_dic_list()) "
    }
   },
   "types_to_exclude": [
    "module",
    "function",
    "builtin_function_or_method",
    "instance",
    "_Feature"
   ],
   "window_display": false
  }
 },
 "nbformat": 4,
 "nbformat_minor": 5
}
